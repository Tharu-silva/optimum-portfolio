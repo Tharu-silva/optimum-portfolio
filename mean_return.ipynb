{
 "cells": [
  {
   "cell_type": "code",
   "execution_count": 177,
   "id": "312bacdc",
   "metadata": {},
   "outputs": [],
   "source": [
    "import pandas as pd\n",
    "import yfinance as yf\n",
    "from yahoo_fin.stock_info import *\n",
    "import numpy as np"
   ]
  },
  {
   "cell_type": "code",
   "execution_count": 178,
   "id": "adff3ce6",
   "metadata": {
    "scrolled": false
   },
   "outputs": [
    {
     "name": "stdout",
     "output_type": "stream",
     "text": [
      "91.10925526727114\n"
     ]
    }
   ],
   "source": [
    "class Stock: \n",
    "\n",
    "    def __init__(self, ticker, period=\"1mo\"):\n",
    "        self.ticker = ticker\n",
    "        self.period = period\n",
    "\n",
    "# Gets the adjusted close of a ticker per a certain period\n",
    "    def get_prices(self):\n",
    "        price_data = get_data(self.ticker, start_date = \"20/03/2017\", index_as_date = True, interval=self.period)\n",
    "        adjclose = price_data.loc[:, 'adjclose']\n",
    "        return adjclose.tolist()\n",
    "\n",
    "\n",
    "    # Gets a list of the returns per period in percentage form\n",
    "    def get_period_returns(self):\n",
    "        adjclose_list = self.get_prices()\n",
    "\n",
    "    # Loops through the adjusted closes and sums the ubiased daily return divided by the length of the list\n",
    "        period_returns = []\n",
    "\n",
    "        for i in range(len(adjclose_list) - 1):\n",
    "            daily_return = np.log(adjclose_list[i+1]/adjclose_list[i]) * 100\n",
    "            if np.isnan(daily_return) == False:\n",
    "                period_returns.append(daily_return)\n",
    "        \n",
    "        return period_returns\n",
    "\n",
    "    # Gets the mean return of the stock per-period\n",
    "    def get_mean_return(self):\n",
    "        period_returns = self.get_period_returns()\n",
    "\n",
    "        mean_return = sum(period_returns)/len(period_returns)\n",
    "        return mean_return\n",
    "\n",
    "    # Gets the standard deviation of a certain stock\n",
    "    def get_risk(self):\n",
    "\n",
    "        period_returns = self.get_period_returns()\n",
    "        return np.std(period_returns, dtype=np.float64)\n",
    "\n",
    "\n",
    "doge = Stock('luna-usd')\n",
    "print(doge.get_risk())\n",
    "\n",
    "\n",
    "\n"
   ]
  },
  {
   "cell_type": "markdown",
   "id": "f6d602af",
   "metadata": {},
   "source": [
    "# Minimum variance portoflio\n",
    "The following module calculates the weightings of two stocks that give the the least risk\n",
    "\n",
    "Disclaimer: Both stocks must have existed for the same amount of time"
   ]
  },
  {
   "cell_type": "code",
   "execution_count": 179,
   "id": "9de64d2b",
   "metadata": {},
   "outputs": [
    {
     "name": "stdout",
     "output_type": "stream",
     "text": [
      "(-0.016079299901901874, 1.016079299901902)\n"
     ]
    }
   ],
   "source": [
    "class Portfolio: \n",
    "    def __init__(self, ticker_1, ticker_2, period = \"1mo\"):\n",
    "        self.stock_1 = Stock(ticker_1, period)    \n",
    "        self.stock_2 = Stock(ticker_2, period)\n",
    "    \n",
    "    # Gets the covariance of the two stocks\n",
    "    def get_cov(self):\n",
    "        returns1 = self.stock_1.get_period_returns()\n",
    "        returns2 = self.stock_2.get_period_returns()\n",
    "\n",
    "        cov_matrix = np.cov(returns1,returns2)\n",
    "\n",
    "        cov = cov_matrix[0,1]\n",
    "        return cov\n",
    "        \n",
    "\n",
    "    def get_corr(self):\n",
    "        corr = self.get_cov()/(self.stock_1.get_risk() * self.stock_2.get_risk())\n",
    "        return corr\n",
    "\n",
    "    def get_weights(self):\n",
    "        std1 = self.stock_1.get_risk()\n",
    "        std2 = self.stock_2.get_risk()\n",
    "\n",
    "        numerator = (std2**2) - (self.get_corr() * std1 * std2)\n",
    "        denominator = (std1**2) + (std2**2) - (2 * self.get_corr() * std1 * std2)\n",
    "\n",
    "        stock_1_weight = numerator/denominator\n",
    "        stock_2_weight = 1 - stock_1_weight\n",
    "\n",
    "        return (stock_1_weight, stock_2_weight)\n",
    "\n",
    "\n",
    "portfolio = Portfolio('btc-usd', 'msft')\n",
    "print(portfolio.get_weights())"
   ]
  }
 ],
 "metadata": {
  "interpreter": {
   "hash": "a8e6d4b7907e01b2845ec41deba60f188791a3b4d77569ba1a5c1ee64109f8f9"
  },
  "kernelspec": {
   "display_name": "Python 3 (ipykernel)",
   "language": "python",
   "name": "python3"
  },
  "language_info": {
   "codemirror_mode": {
    "name": "ipython",
    "version": 3
   },
   "file_extension": ".py",
   "mimetype": "text/x-python",
   "name": "python",
   "nbconvert_exporter": "python",
   "pygments_lexer": "ipython3",
   "version": "3.9.7"
  }
 },
 "nbformat": 4,
 "nbformat_minor": 5
}
