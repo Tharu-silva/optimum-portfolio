{
 "cells": [
  {
   "cell_type": "code",
   "execution_count": 19,
   "id": "312bacdc",
   "metadata": {},
   "outputs": [],
   "source": [
    "import pandas as pd\n",
    "import yfinance as yf\n",
    "from yahoo_fin.stock_info import *\n",
    "import numpy as np"
   ]
  },
  {
   "cell_type": "code",
   "execution_count": 20,
   "id": "adff3ce6",
   "metadata": {
    "scrolled": false
   },
   "outputs": [
    {
     "name": "stdout",
     "output_type": "stream",
     "text": [
      "1.3604781351099215\n"
     ]
    }
   ],
   "source": [
    "def get_mean_return(ticker, period=\"1mo\"):\n",
    "\n",
    "    prices_monthly = get_data(ticker, start_date = \"20/03/2017\", index_as_date = True, interval=period)\n",
    "\n",
    "# Takes adj close column and turns it into a list\n",
    "    adjclose = prices_monthly.loc[:, 'adjclose']\n",
    "    adjclose_list = adjclose.tolist()\n",
    "\n",
    "# Loops through the adjusted closes and sums the ubiased daily return divided by the length of the list\n",
    "    mean_returns = 0\n",
    "    for i in range(len(adjclose_list) - 1):\n",
    "        data_points = len(adjclose_list)\n",
    "        daily_return = np.log(adjclose_list[i+1]/adjclose_list[i]) * 100\n",
    "        if np.isnan(daily_return) == False:\n",
    "            mean_returns += daily_return/data_points\n",
    "    \n",
    "    print(mean_returns)\n",
    "\n",
    "\n",
    "get_return('bhp.ax','1mo')\n"
   ]
  }
 ],
 "metadata": {
  "interpreter": {
   "hash": "a8e6d4b7907e01b2845ec41deba60f188791a3b4d77569ba1a5c1ee64109f8f9"
  },
  "kernelspec": {
   "display_name": "Python 3 (ipykernel)",
   "language": "python",
   "name": "python3"
  },
  "language_info": {
   "codemirror_mode": {
    "name": "ipython",
    "version": 3
   },
   "file_extension": ".py",
   "mimetype": "text/x-python",
   "name": "python",
   "nbconvert_exporter": "python",
   "pygments_lexer": "ipython3",
   "version": "3.9.7"
  }
 },
 "nbformat": 4,
 "nbformat_minor": 5
}
