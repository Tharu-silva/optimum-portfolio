{
 "cells": [
  {
   "cell_type": "code",
   "execution_count": 3,
   "id": "312bacdc",
   "metadata": {},
   "outputs": [],
   "source": [
    "import pandas as pd\n",
    "import yfinance as yf\n",
    "import yahoo_fin.stock_info \n",
    "import matplotlib.pyplot as plt"
   ]
  },
  {
   "cell_type": "code",
   "execution_count": 4,
   "id": "adff3ce6",
   "metadata": {
    "scrolled": false
   },
   "outputs": [
    {
     "name": "stdout",
     "output_type": "stream",
     "text": [
      "3606.3332630858754\n",
      "                open      high       low     close  adjclose   volume  \\\n",
      "2017-02-01  0.087482  0.332785  0.017062  0.024735  0.024735  62731.0   \n",
      "2017-03-01  0.024737  0.088323  0.007026  0.013161  0.013161  48227.0   \n",
      "2017-04-01  0.013159  0.030945  0.006843  0.010138  0.010138   8520.0   \n",
      "2017-05-01  0.010141  0.026495  0.009223  0.014273  0.014273   7149.0   \n",
      "2017-06-01  0.014281  0.029653  0.014038  0.028040  0.028040   6193.0   \n",
      "...              ...       ...       ...       ...       ...      ...   \n",
      "2022-02-01  0.007312  0.008676  0.002867  0.005183  0.005183     46.0   \n",
      "2022-03-01  0.005183  0.008523  0.003065  0.004554  0.004554    434.0   \n",
      "2022-04-01  0.004555  0.005678  0.003031  0.004149  0.004149    181.0   \n",
      "2022-05-01  0.004148  1.335080  0.003540  1.192089  1.192089     56.0   \n",
      "2022-06-01       NaN       NaN       NaN       NaN       NaN      NaN   \n",
      "\n",
      "              ticker  \n",
      "2017-02-01  LUNA-USD  \n",
      "2017-03-01  LUNA-USD  \n",
      "2017-04-01  LUNA-USD  \n",
      "2017-05-01  LUNA-USD  \n",
      "2017-06-01  LUNA-USD  \n",
      "...              ...  \n",
      "2022-02-01  LUNA-USD  \n",
      "2022-03-01  LUNA-USD  \n",
      "2022-04-01  LUNA-USD  \n",
      "2022-05-01  LUNA-USD  \n",
      "2022-06-01  LUNA-USD  \n",
      "\n",
      "[65 rows x 7 columns]\n"
     ]
    }
   ],
   "source": [
    "def get_return(ticker):\n",
    "\n",
    "    prices_monthly = get_data(ticker, index_as_date = True, interval=\"1mo\")\n",
    "\n",
    "\n",
    "\n",
    "    indicies = prices_monthly.index\n",
    "    adjclose = prices_monthly.loc[:, 'adjclose']\n",
    "\n",
    "    adjclose_list = adjclose.tolist()\n",
    "\n",
    "    stock_dframe = pd.DataFrame(adjclose_list, index = indicies, columns = [\"adjclose\"])\n",
    "\n",
    "    adjclose_list.insert(0,0)\n",
    "    adjclose_list.pop(-1)\n",
    "\n",
    "    stock_dframe['adjclose2'] = adjclose_list\n",
    "\n",
    "\n",
    "    stock_dframe['returns'] = stock_dframe['adjclose']/stock_dframe['adjclose2']\n",
    "\n",
    "\n",
    "#   Converting returns to percentages\n",
    "    stock_dframe['returns'] = stock_dframe['returns'].apply(lambda x: (x - 1) * 100)\n",
    "    \n",
    "#   Dropping the first row   \n",
    "    stock_dframe.drop(index=stock_dframe.index[0], axis=0, inplace=True)\n",
    "\n",
    "    avg_monthly_return = stock_dframe['returns'].mean()\n",
    "\n",
    "    \n",
    "    std_dev = stock_dframe['returns'].std()\n",
    "    print(std_dev) \n",
    "    \n",
    "    print(prices_monthly)\n",
    "\n",
    "get_return('luna-usd')\n"
   ]
  }
 ],
 "metadata": {
  "interpreter": {
   "hash": "a8e6d4b7907e01b2845ec41deba60f188791a3b4d77569ba1a5c1ee64109f8f9"
  },
  "kernelspec": {
   "display_name": "Python 3 (ipykernel)",
   "language": "python",
   "name": "python3"
  },
  "language_info": {
   "codemirror_mode": {
    "name": "ipython",
    "version": 3
   },
   "file_extension": ".py",
   "mimetype": "text/x-python",
   "name": "python",
   "nbconvert_exporter": "python",
   "pygments_lexer": "ipython3",
   "version": "3.9.7"
  }
 },
 "nbformat": 4,
 "nbformat_minor": 5
}
