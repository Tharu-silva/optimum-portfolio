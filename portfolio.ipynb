{
 "cells": [
  {
   "cell_type": "code",
   "execution_count": 46,
   "id": "312bacdc",
   "metadata": {},
   "outputs": [],
   "source": [
    "import pandas as pd\n",
    "import yfinance as yf\n",
    "from yahoo_fin.stock_info import *\n",
    "import numpy as np\n",
    "from datetime import date"
   ]
  },
  {
   "cell_type": "code",
   "execution_count": 47,
   "id": "adff3ce6",
   "metadata": {
    "scrolled": false
   },
   "outputs": [],
   "source": [
    "class Stock: \n",
    "\n",
    "    def __init__(self, ticker, period=\"1mo\"):\n",
    "        self.ticker = ticker\n",
    "        self.period = period\n",
    "\n",
    "# Gets the adjusted close of a ticker per a certain period\n",
    "    def get_prices(self):\n",
    "        price_data = get_data(self.ticker, start_date=\"01/01/2015\",end_date = datetime.date.today(), index_as_date = True, interval=self.period)\n",
    "        adjclose = price_data.loc[:, 'adjclose']\n",
    "        return adjclose.tolist()\n",
    "\n",
    "\n",
    "    # Gets a list of the returns per period in percentage form\n",
    "    def get_period_returns(self):\n",
    "        adjclose_list = self.get_prices()\n",
    "\n",
    "    # Loops through the adjusted closes and sums the ubiased daily return divided by the length of the list\n",
    "        period_returns = []\n",
    "\n",
    "        for i in range(len(adjclose_list) - 1):\n",
    "            daily_return = np.log(adjclose_list[i+1]/adjclose_list[i]) * 100\n",
    "            if np.isnan(daily_return) == False:\n",
    "                period_returns.append(daily_return)\n",
    "        \n",
    "        return period_returns\n",
    "\n",
    "    # Gets the mean return of the stock per-period\n",
    "    def get_mean_return(self):\n",
    "        period_returns = self.get_period_returns()\n",
    "\n",
    "        mean_return = sum(period_returns)/len(period_returns)\n",
    "        return mean_return\n",
    "\n",
    "    # Gets the standard deviation of a certain stock\n",
    "    def get_risk(self):\n",
    "        period_returns = self.get_period_returns()\n",
    "        return np.std(period_returns, dtype=np.float64)\n",
    "\n",
    "\n",
    "s1 = Stock('tsla')\n",
    "s2 = Stock('^AXJO')\n",
    "\n"
   ]
  },
  {
   "cell_type": "markdown",
   "id": "f6d602af",
   "metadata": {},
   "source": [
    "# Minimum variance portoflio\n",
    "The following module calculates the weightings of two stocks that give the the least risk"
   ]
  },
  {
   "cell_type": "code",
   "execution_count": 48,
   "id": "9de64d2b",
   "metadata": {},
   "outputs": [
    {
     "name": "stdout",
     "output_type": "stream",
     "text": [
      "-0.01977192819786144 1.0197719281978614\n",
      "9.473718071298261\n",
      "3.2229620212634496\n"
     ]
    }
   ],
   "source": [
    "class Portfolio: \n",
    "    def __init__(self, ticker_1, ticker_2, period = \"1mo\"):\n",
    "        self.stock_1 = Stock(ticker_1, period)    \n",
    "        self.stock_2 = Stock(ticker_2, period)\n",
    "    \n",
    "    def get_return(self, w_1, w_2):\n",
    "        exp_return = w_1 * self.stock_1.get_mean_return() + w_2 * self.stock_2.get_mean_return()\n",
    "        return exp_return\n",
    "\n",
    "    def get_risk(self, w_1, w_2):\n",
    "        std_1 = self.stock_1.get_risk()\n",
    "        std_2 = self.stock_2.get_risk()\n",
    "\n",
    "        if w_1 < 0:\n",
    "            w_sq_1 = -(w_1**2)\n",
    "            w_sq_2 = w_2**2\n",
    "        elif w_2 < 0: \n",
    "            w_sq_1 = w_1**2\n",
    "            w_sq_2 = -(w_2**2)\n",
    "        else: \n",
    "            w_sq_1 = w_1**2\n",
    "            w_sq_2 = w_2**2\n",
    "        \n",
    "        variance = (w_sq_1 * (std_1**2)) + (w_sq_2 * (std_2**2)) + (2 * self.get_corr() * w_1 * w_2 * std_1 * std_2)\n",
    "        risk = math.sqrt(variance)\n",
    "        return risk\n",
    "\n",
    "    # Gets the covariance of the two stocks\n",
    "    def get_cov(self):\n",
    "        returns1 = self.stock_1.get_period_returns()\n",
    "        returns2 = self.stock_2.get_period_returns()\n",
    "\n",
    "        # Makes the list of returns the same size\n",
    "        abs_diff = abs(len(returns1) - len(returns2))\n",
    "        if len(returns1) > len(returns2):\n",
    "            returns1 = returns1[abs_diff:]\n",
    "        else: \n",
    "            returns2 = returns2[abs_diff:]\n",
    "        \n",
    "        cov_matrix = np.cov(returns1,returns2)\n",
    "\n",
    "        cov = cov_matrix[0,1]\n",
    "        return cov\n",
    "        \n",
    "\n",
    "    def get_corr(self):\n",
    "        corr = self.get_cov()/(self.stock_1.get_risk() * self.stock_2.get_risk())\n",
    "        return corr\n",
    "\n",
    "    def get_min_risk(self):\n",
    "        std1 = self.stock_1.get_risk()\n",
    "        std2 = self.stock_2.get_risk()\n",
    "\n",
    "        numerator = (std2**2) - (self.get_corr() * std1 * std2)\n",
    "        denominator = (std1**2) + (std2**2) - (2 * self.get_corr() * std1 * std2)\n",
    "\n",
    "        stock_1_weight = numerator/denominator\n",
    "        stock_2_weight = 1 - stock_1_weight\n",
    "\n",
    "        return (stock_1_weight, stock_2_weight)\n",
    "    \n",
    "    # def get_optimium(self): \n",
    "    \n",
    "\n",
    "\n",
    "\n",
    "portfolio = Portfolio('tsla', 'msft')\n",
    "(a,b) = portfolio.get_min_risk()\n",
    "print(a,b)\n",
    "print(portfolio.get_risk(0.5,0.5))\n",
    "print(portfolio.get_return(1.1,-0.1))\n"
   ]
  }
 ],
 "metadata": {
  "interpreter": {
   "hash": "a8e6d4b7907e01b2845ec41deba60f188791a3b4d77569ba1a5c1ee64109f8f9"
  },
  "kernelspec": {
   "display_name": "Python 3 (ipykernel)",
   "language": "python",
   "name": "python3"
  },
  "language_info": {
   "codemirror_mode": {
    "name": "ipython",
    "version": 3
   },
   "file_extension": ".py",
   "mimetype": "text/x-python",
   "name": "python",
   "nbconvert_exporter": "python",
   "pygments_lexer": "ipython3",
   "version": "3.9.7"
  }
 },
 "nbformat": 4,
 "nbformat_minor": 5
}
