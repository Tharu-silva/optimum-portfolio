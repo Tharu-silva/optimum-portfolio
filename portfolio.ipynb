{
 "cells": [
  {
   "cell_type": "code",
   "execution_count": 66,
   "id": "312bacdc",
   "metadata": {},
   "outputs": [],
   "source": [
    "import pandas as pd\n",
    "from yahoo_fin.stock_info import *\n",
    "import numpy as np\n",
    "import math\n",
    "from datetime import date\n",
    "import matplotlib.pyplot as plt\n",
    "import ipywidgets as widgets\n",
    "from IPython.display import display, clear_output\n",
    "\n"
   ]
  },
  {
   "cell_type": "markdown",
   "id": "a5b73cdd",
   "metadata": {},
   "source": [
    "# Stock class instructions\n",
    "\n",
    "The stock class can be instantiated by giving an asset ticker as listed by yahoo finance\n",
    "\n",
    "What each of the stock class methods does: \n",
    "\n",
    "`prices`: Returns a list of the monthly adjusted close prices from 01/01/2015 to the current day <br>\n",
    "`period_returns`: Returns a list of the returns per period in percentage form <br>\n",
    "`mean_return`: Gets the monthly mean returns for the asset <br>\n",
    "`risk`: Gets the risk(variance) of the assset <br>\n",
    "\n",
    "\n",
    "\n"
   ]
  },
  {
   "cell_type": "code",
   "execution_count": 2,
   "id": "adff3ce6",
   "metadata": {
    "scrolled": false
   },
   "outputs": [],
   "source": [
    "class Stock: \n",
    "\n",
    "    def __init__(self, ticker, period=\"1mo\"):\n",
    "        self.ticker = ticker\n",
    "        self.period = period\n",
    "\n",
    "# Gets the adjusted close of a ticker per a certain period\n",
    "    def prices(self):\n",
    "        price_data = get_data(self.ticker, start_date=\"01/01/2015\",end_date = datetime.date.today(), index_as_date = True, interval=self.period)\n",
    "        adjclose = price_data.loc[:, 'adjclose']\n",
    "        return adjclose.tolist()\n",
    "\n",
    "\n",
    "    # Gets a list of the returns per period in percentage form\n",
    "    def period_returns(self):\n",
    "        adjclose_list = self.prices()\n",
    "\n",
    "    # Loops through the adjusted closes and sums the ubiased daily return divided by the length of the list\n",
    "        period_returns = []\n",
    "\n",
    "        for i in range(len(adjclose_list) - 1):\n",
    "            daily_return = np.log(adjclose_list[i+1]/adjclose_list[i]) * 100\n",
    "            if np.isnan(daily_return) == False:\n",
    "                period_returns.append(daily_return)\n",
    "        \n",
    "        return period_returns\n",
    "\n",
    "    # Gets the mean return of the stock per-period\n",
    "    def mean_return(self):\n",
    "        period_returns = self.period_returns()\n",
    "\n",
    "        mean_return = sum(period_returns)/len(period_returns)\n",
    "        return mean_return\n",
    "\n",
    "    # Gets the standard deviation of a certain stock\n",
    "    def risk(self):\n",
    "        period_returns = self.period_returns()\n",
    "        return (np.std(period_returns, dtype=np.float64))\n"
   ]
  },
  {
   "cell_type": "code",
   "execution_count": 7,
   "id": "2d241b60",
   "metadata": {},
   "outputs": [
    {
     "data": {
      "application/vnd.jupyter.widget-view+json": {
       "model_id": "fe7547f28f554e4ba1bd1365e67c435f",
       "version_major": 2,
       "version_minor": 0
      },
      "text/plain": [
       "Text(value='', description='Stock ticker:')"
      ]
     },
     "metadata": {},
     "output_type": "display_data"
    },
    {
     "data": {
      "application/vnd.jupyter.widget-view+json": {
       "model_id": "c5f0542a14df4dc089bc7844f6d2b325",
       "version_major": 2,
       "version_minor": 0
      },
      "text/plain": [
       "Button(description='Get mean return', style=ButtonStyle())"
      ]
     },
     "metadata": {},
     "output_type": "display_data"
    },
    {
     "data": {
      "application/vnd.jupyter.widget-view+json": {
       "model_id": "eaf2161498e24811aa830010af6595a3",
       "version_major": 2,
       "version_minor": 0
      },
      "text/plain": [
       "Button(description='Get risk', style=ButtonStyle())"
      ]
     },
     "metadata": {},
     "output_type": "display_data"
    },
    {
     "name": "stdout",
     "output_type": "stream",
     "text": [
      "TSLA mean return: 3.3055046714312786 %\n",
      "TSLA risk: 15.722784942311671\n"
     ]
    }
   ],
   "source": [
    "stock_text = widgets.Text(\n",
    "    description='Stock ticker:',\n",
    "    disabled=False\n",
    ")\n",
    "\n",
    "# Mean return\n",
    "def mean_return_event(obj):\n",
    "    new_stock = Stock(stock_text.value)\n",
    "    mean_rtrn = new_stock.mean_return()\n",
    "    value = stock_text.value\n",
    "    print(value.upper(),\"mean return:\", str(mean_rtrn),\"%\")\n",
    "\n",
    "mean_return_btn = widgets.Button(description='Get mean return')\n",
    "mean_return_btn.on_click(mean_return_event)\n",
    "\n",
    "# Risk\n",
    "def risk_event(obj):\n",
    "    new_stock = Stock(stock_text.value)\n",
    "    risk = new_stock.risk()\n",
    "    value = stock_text.value\n",
    "    print(value.upper(),\"risk:\", str(risk))\n",
    "\n",
    "\n",
    "risk_btn = widgets.Button(description='Get risk')\n",
    "risk_btn.on_click(risk_event)\n",
    "\n",
    "\n",
    "display(stock_text, mean_return_btn, risk_btn)\n",
    "\n"
   ]
  },
  {
   "cell_type": "markdown",
   "id": "f6d602af",
   "metadata": {},
   "source": [
    "# Portfolio class instructions\n",
    "The following module contains these functions that can be called on a two-stock portfolio:\n",
    "\n",
    "The portfolio class can be instantiated by giving 2 asset tickers as arguments\n",
    "\n",
    "\n",
    "`get_return`: Gets the expected return of the portfolio <br>\n",
    "`risk`: Gets the expected risk of the portfolio <br>\n",
    "`get_cov`: Gets covariance of the two assets <br>\n",
    "`get_corr`: Gets the correlation coefficient of the two assets<br>\n",
    "`get_min_risk`: Gets the weights of the two assets that give the least risk<br>\n",
    "`get_optimum`: Gets the weights of the two assets that give the best sharpe ratio(most optimum portfolio)<br>\n",
    "`plot_risk_vs_return`: Plots a the risk(y-axis) v return(x-axis) graph of the two assets<br>"
   ]
  },
  {
   "cell_type": "code",
   "execution_count": 74,
   "id": "9de64d2b",
   "metadata": {},
   "outputs": [
    {
     "data": {
      "image/png": "[encoded data removed]",
      "text/plain": [
       "<Figure size 432x288 with 1 Axes>"
      ]
     },
     "metadata": {
      "needs_background": "light"
     },
     "output_type": "display_data"
    },
    {
     "name": "stdout",
     "output_type": "stream",
     "text": [
      "6.114841962989884\n"
     ]
    }
   ],
   "source": [
    "class Portfolio: \n",
    "    def __init__(self, ticker_1, ticker_2, period = \"1mo\"):\n",
    "        self.stock_1 = Stock(ticker_1, period)    \n",
    "        self.stock_2 = Stock(ticker_2, period)\n",
    "    \n",
    "    def get_return(self, w_1, w_2):\n",
    "        exp_return = w_1 * self.stock_1.mean_return() + w_2 * self.stock_2.mean_return()\n",
    "        return exp_return\n",
    "\n",
    "    def risk(self, w_1, w_2):\n",
    "        std_1 = self.stock_1.risk()\n",
    "        std_2 = self.stock_2.risk()\n",
    "\n",
    "        if w_1 < 0:\n",
    "            w_sq_1 = -(w_1**2)\n",
    "            w_sq_2 = w_2**2\n",
    "        elif w_2 < 0: \n",
    "            w_sq_1 = w_1**2\n",
    "            w_sq_2 = -(w_2**2)\n",
    "        else: \n",
    "            w_sq_1 = w_1**2\n",
    "            w_sq_2 = w_2**2\n",
    "        \n",
    "        variance = (w_sq_1 * (std_1**2)) + (w_sq_2 * (std_2**2)) + (2 * self.get_corr() * w_1 * w_2 * std_1 * std_2)\n",
    "        risk = math.sqrt(variance)\n",
    "        return risk\n",
    "\n",
    "    # Gets the covariance of the two stocks\n",
    "    def get_cov(self):\n",
    "        returns1 = self.stock_1.period_returns()\n",
    "        returns2 = self.stock_2.period_returns()\n",
    "\n",
    "        # Makes the list of returns the same size\n",
    "        abs_diff = abs(len(returns1) - len(returns2))\n",
    "        if len(returns1) > len(returns2):\n",
    "            returns1 = returns1[abs_diff:]\n",
    "        else: \n",
    "            returns2 = returns2[abs_diff:]\n",
    "        \n",
    "        cov_matrix = np.cov(returns1,returns2)\n",
    "\n",
    "        cov = cov_matrix[0,1]\n",
    "        return cov\n",
    "        \n",
    "\n",
    "    def get_corr(self):\n",
    "        corr = self.get_cov()/(self.stock_1.risk() * self.stock_2.risk())\n",
    "        return corr\n",
    "\n",
    "    def get_min_risk(self):\n",
    "        std1 = self.stock_1.risk()\n",
    "        std2 = self.stock_2.risk()\n",
    "\n",
    "        numerator = (std2**2) - (self.get_corr() * std1 * std2)\n",
    "        denominator = (std1**2) + (std2**2) - (2 * self.get_corr() * std1 * std2)\n",
    "\n",
    "        stock_1_weight = numerator/denominator\n",
    "        stock_2_weight = 1 - stock_1_weight\n",
    "\n",
    "        return (stock_1_weight, stock_2_weight)\n",
    "    \n",
    "    def get_optimum(self): \n",
    "        std_1 = self.stock_1.risk()\n",
    "        std_2 = self.stock_2.risk()\n",
    "        rtrn_1 = self.stock_1.mean_return()\n",
    "        rtrn_2 = self.stock_2.mean_return()\n",
    "\n",
    "        numerator = rtrn_1 * (std_2**2) - rtrn_2 * (self.get_cov())\n",
    "        denominator = rtrn_1*(std_2**2) + rtrn_2*(std_1**2) - (rtrn_1 + rtrn_2) * self.get_cov()\n",
    "\n",
    "        stock_1_weight = numerator/denominator\n",
    "        stock_2_weight = 1 - stock_1_weight\n",
    "\n",
    "        return (stock_1_weight, stock_2_weight)\n",
    "    \n",
    "    def plot_risk_vs_return(self): \n",
    "        weights = []\n",
    "        curr = 0\n",
    "        while curr <= 1:\n",
    "            weights.append(round(curr,1))\n",
    "            curr += 0.1        \n",
    "        \n",
    "        returns = [self.get_return(x, 1-x) for x in weights]\n",
    "\n",
    "        risk = [self.risk(x, 1-x) for x in weights]\n",
    "        plt.plot(risk, returns)\n",
    "\n",
    "        plt.xlabel('risk')\n",
    "        plt.ylabel('returns')\n",
    "        plt.title('returns vs risk')\n",
    "\n",
    "        plt.show()\n",
    "    \n",
    "\n",
    "port = Portfolio('tsla', 'msft')\n",
    "\n",
    "# port.plot_risk_vs_return()\n",
    "# print(port.risk(0.1,0.9))"
   ]
  },
  {
   "cell_type": "code",
   "execution_count": 75,
   "id": "0dcdf704",
   "metadata": {},
   "outputs": [
    {
     "data": {
      "application/vnd.jupyter.widget-view+json": {
       "model_id": "57b835d75a43474c9385a1c4d3354845",
       "version_major": 2,
       "version_minor": 0
      },
      "text/plain": [
       "GridspecLayout(children=(Text(value='', description='Stock 1:', layout=Layout(grid_area='widget001')), Text(va…"
      ]
     },
     "metadata": {},
     "output_type": "display_data"
    },
    {
     "name": "stdout",
     "output_type": "stream",
     "text": [
      "Portfolio (tsla, msft) covariance: 38.851038888905755\n",
      "Portfolio (tsla, msft) correlation coeff.: 0.42083403605464065\n",
      "Portfolio (tsla, msft) minimum risk weights: (-0.021445240470887784, 1.0214452404708878)\n",
      "Portfolio (tsla, msft) optmimum weights: (0.061108292284058875, 0.9388917077159411)\n"
     ]
    },
    {
     "data": {
      "application/vnd.jupyter.widget-view+json": {
       "model_id": "7b9921e8507248c7a3da7d7bc7cad4d7",
       "version_major": 2,
       "version_minor": 0
      },
      "text/plain": [
       "GridspecLayout(children=(FloatSlider(value=0.5, continuous_update=False, description='Stock 1:', layout=Layout…"
      ]
     },
     "metadata": {},
     "output_type": "display_data"
    },
    {
     "data": {
      "application/vnd.jupyter.widget-view+json": {
       "model_id": "05eaccf88b2d4eaeb16d9560aa56a293",
       "version_major": 2,
       "version_minor": 0
      },
      "text/plain": [
       "Button(description='Get risk vs return graph', style=ButtonStyle())"
      ]
     },
     "metadata": {},
     "output_type": "display_data"
    },
    {
     "data": {
      "image/png": "[encoded data removed]",
      "text/plain": [
       "<Figure size 432x288 with 1 Axes>"
      ]
     },
     "metadata": {
      "needs_background": "light"
     },
     "output_type": "display_data"
    }
   ],
   "source": [
    "from ipywidgets import GridspecLayout\n",
    "\n",
    "stock_text_1 = widgets.Text(\n",
    "    description='Stock 1:',\n",
    ")\n",
    "\n",
    "stock_text_2 = widgets.Text(\n",
    "    description='Stock 2:',\n",
    ")\n",
    "\n",
    "btn_list = [\n",
    "    {\"fname\": \"portfolio.get_cov()\", \"output_txt\": \"covariance\"},\n",
    "    {\"fname\": \"portfolio.get_corr()\", \"output_txt\": \"correlation coeff.\"}, \n",
    "    {\"fname\": \"portfolio.get_min_risk()\", \"output_txt\": \"minimum risk weights\"},\n",
    "    {\"fname\": \"portfolio.get_optimum()\", \"output_txt\": \"optmimum weights\"},\n",
    "    ]\n",
    "\n",
    "\n",
    "def add_txt(func, output_txt):\n",
    "    ticker_1 = stock_text_1.value\n",
    "    ticker_2 = stock_text_2.value\n",
    "    portfolio = Portfolio(ticker_1, ticker_2)\n",
    "    result = eval(func)\n",
    "    output = \"Portfolio ({ticker1}, {ticker2}) {txt}: {result}\"\n",
    "    print(output.format(ticker1 = ticker_1, ticker2 = ticker_2, txt = output_txt, result = result))\n",
    "\n",
    "def add_btn(obj): \n",
    "    # Displays the results of the functions specified in btn_list\n",
    "    i = 0\n",
    "    while(i < len(btn_list)): \n",
    "        curr_func = btn_list[i]\n",
    "        add_txt(curr_func[\"fname\"], curr_func[\"output_txt\"])\n",
    "        i += 1\n",
    "\n",
    "    # Grid for weight inputs\n",
    "    weight_grid = GridspecLayout(2,2)\n",
    "    # Int sliders for weight\n",
    "    weight_1 = widgets.FloatSlider(\n",
    "                value=0.5,\n",
    "                min=0,\n",
    "                max=1.0,\n",
    "                step=0.05,\n",
    "                description='Stock 1:',\n",
    "                disabled=False,\n",
    "                continuous_update=False,\n",
    "                orientation='horizontal',\n",
    "                readout=True,\n",
    "                readout_format='.1f',\n",
    "                )\n",
    "    weight_2 = widgets.FloatSlider(\n",
    "                value=0.5,\n",
    "                min=0,\n",
    "                max=1.0,\n",
    "                step=0.05,\n",
    "                description='Stock 2:',\n",
    "                disabled=False,\n",
    "                continuous_update=False,\n",
    "                orientation='horizontal',\n",
    "                readout=True,\n",
    "                readout_format='.1f',\n",
    "                )\n",
    "    risk_return_btn = widgets.Button(description=\"Get risk and return\")\n",
    "\n",
    "    # Event handler for get risk and return button\n",
    "    def risk_return_handler(obj):\n",
    "        ticker_1 = stock_text_1.value\n",
    "        ticker_2 = stock_text_2.value\n",
    "        portfolio = Portfolio(ticker_1, ticker_2)\n",
    "        risk = portfolio.risk(weight_1.value, weight_2.value)\n",
    "        rtrn = portfolio.get_return(weight_1.value, weight_2.value)\n",
    "        output = \"Portfolio ({ticker1}, {ticker2}) {txt}: {result}\"\n",
    "        print(output.format(ticker1 = ticker_1, ticker2 = ticker_2, txt = \"has risk\", result = risk))\n",
    "        print(output.format(ticker1 = ticker_1, ticker2 = ticker_2, txt = \"has expected return\", result = rtrn))\n",
    "\n",
    "    risk_return_btn.on_click(risk_return_handler)\n",
    "\n",
    "    weight_grid[0,0] = weight_1\n",
    "    weight_grid[0,1] = weight_2\n",
    "    weight_grid[1,0] = risk_return_btn\n",
    "\n",
    "    display(weight_grid)\n",
    "\n",
    "    graph_btn = widgets.Button(description=\"Get risk vs return graph\")   \n",
    "\n",
    "    def graph_handler(obj): \n",
    "        ticker_1 = stock_text_1.value\n",
    "        ticker_2 = stock_text_2.value\n",
    "        portfolio = Portfolio(ticker_1, ticker_2)\n",
    "        portfolio.plot_risk_vs_return()\n",
    "    \n",
    "    graph_btn.on_click(graph_handler)\n",
    "    display(graph_btn) \n",
    "grid = GridspecLayout(3,1)\n",
    "grid[0,0] = stock_text_1\n",
    "grid[1,0] = stock_text_2\n",
    "\n",
    "\n",
    "\n",
    "display_btn = widgets.Button(description=\"Done\")\n",
    "display_btn.on_click(add_btn)\n",
    "grid[2,0] = display_btn\n",
    "display(grid)\n",
    "\n",
    "\n",
    "        \n",
    "    "
   ]
  },
  {
   "cell_type": "markdown",
   "id": "3d39cf71",
   "metadata": {},
   "source": [
    "# Market class\n",
    "\n",
    "The market class can be instantiated by giving a list of asset tickers called a market\n",
    "\n",
    "\n",
    "`min_risk_portfolio`: Returns an object containing the weights of two assets in the market that give the least risk <br>\n",
    "`optimum_portfolio`: Returns an object containing the weights of two assets in the market that give the best sharpe ratio(most optimimum portfolio) <br>\n",
    "\n",
    "Both functions are O(n^2) so it might take a while for larger lists!"
   ]
  },
  {
   "cell_type": "code",
   "execution_count": 6,
   "id": "341e9986",
   "metadata": {},
   "outputs": [],
   "source": [
    "class Market: \n",
    "  def __init__(self, market):\n",
    "    self.market = market\n",
    "    \n",
    "  def min_risk_portfolio(self):\n",
    "    curr_min_risk =  1000\n",
    "    portfolio_info = {}\n",
    "\n",
    "    for i in range(len(self.market)):\n",
    "      for j in range(len(self.market[i:])):\n",
    "        if i == j:\n",
    "          continue\n",
    "        \n",
    "        portfolio = Portfolio(self.market[i], self.market[j])\n",
    "        a,b = portfolio.get_min_risk() \n",
    "        portfolio_risk = portfolio.risk(a,b)\n",
    "\n",
    "        if curr_min_risk > portfolio_risk:\n",
    "          \n",
    "          curr_min_risk = portfolio_risk\n",
    "          portfolio_info['stock1'] = self.market[i]\n",
    "          portfolio_info['stock2'] = self.market[j]\n",
    "          portfolio_info['stock1_weight'] = a\n",
    "          portfolio_info['stock2_weight'] = b\n",
    "          portfolio_info['risk'] = portfolio_risk\n",
    "        \n",
    "        \n",
    "    return portfolio_info\n",
    "\n",
    "  def optimum_portfolio(self):\n",
    "    curr_ratio =  -1000\n",
    "    portfolio_info = {}\n",
    "\n",
    "    for i in range(len(self.market)):\n",
    "      for j in range(len(self.market[i:])):\n",
    "        if i == j:\n",
    "          continue\n",
    "        \n",
    "        portfolio = Portfolio(self.market[i], self.market[j])\n",
    "        a,b = portfolio.get_optimium() \n",
    "        portfolio_return = portfolio.get_return(a,b)\n",
    "        portfolio_risk = portfolio.risk(a,b)\n",
    "\n",
    "        portfolio_ratio = portfolio_return/portfolio_risk\n",
    "\n",
    "        if portfolio_ratio > curr_ratio:\n",
    "          \n",
    "          curr_min_risk = portfolio_ratio\n",
    "          portfolio_info['stock1'] = self.market[i]\n",
    "          portfolio_info['stock2'] = self.market[j]\n",
    "          portfolio_info['stock1_weight'] = a\n",
    "          portfolio_info['stock2_weight'] = b\n",
    "          portfolio_info['sharpe_ratio'] = portfolio_ratio\n",
    "        \n",
    "        \n",
    "    return portfolio_info\n",
    "\n",
    "market1 = Market(['msft', 'aapl', 'tsla', 'amzn'])\n",
    "\n",
    "# print(market1.optimum_portfolio())\n",
    "\n",
    "\n",
    "\n"
   ]
  },
  {
   "cell_type": "code",
   "execution_count": null,
   "id": "c006300d",
   "metadata": {},
   "outputs": [],
   "source": []
  }
 ],
 "metadata": {
  "interpreter": {
   "hash": "a8e6d4b7907e01b2845ec41deba60f188791a3b4d77569ba1a5c1ee64109f8f9"
  },
  "kernelspec": {
   "display_name": "Python 3 (ipykernel)",
   "language": "python",
   "name": "python3"
  },
  "language_info": {
   "codemirror_mode": {
    "name": "ipython",
    "version": 3
   },
   "file_extension": ".py",
   "mimetype": "text/x-python",
   "name": "python",
   "nbconvert_exporter": "python",
   "pygments_lexer": "ipython3",
   "version": "3.9.7"
  }
 },
 "nbformat": 4,
 "nbformat_minor": 5
}
